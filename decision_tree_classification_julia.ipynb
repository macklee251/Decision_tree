{
 "cells": [
  {
   "attachments": {},
   "cell_type": "markdown",
   "metadata": {},
   "source": [
    "$$Decision \\ \\ trees \\ \\ $$\n",
    "We can construct our decision tree using two techniques: <span style=\"color:green\">Maximizing the information gain</span> or Using the <span style=\"color:green\">Gini algorithm</span>."
   ]
  },
  {
   "attachments": {},
   "cell_type": "markdown",
   "metadata": {},
   "source": [
    "To maximizing the information gain, we need to calculate the entropy $$E(S)=-\\sum_i p_i \\log_2 p_i,$$\n",
    "where $p_i$ is simply the frequentist probability of an element.\n",
    "And then the gain of information $$IG(Y,X) = E(Y) - E(Y|X).$$\n",
    "We always want that the gain of information being the highest as possible if order to get \"pure leaf nodes\".\n",
    "\n",
    "The stopping criteria is: maximum depth, minimum number of samples, min impurity decrease"
   ]
  },
  {
   "attachments": {},
   "cell_type": "markdown",
   "metadata": {},
   "source": [
    "The Gini algorithm: $$GINI = 1 - \\sum_i^c p_i^2$$"
   ]
  }
 ],
 "metadata": {
  "kernelspec": {
   "display_name": "Julia 1.8.4",
   "language": "julia",
   "name": "."
  },
  "language_info": {
   "file_extension": ".jl",
   "mimetype": "application/julia",
   "name": "julia",
   "version": "1.8.3"
  },
  "orig_nbformat": 4
 },
 "nbformat": 4,
 "nbformat_minor": 2
}
